{
 "cells": [
  {
   "cell_type": "code",
   "execution_count": 1,
   "metadata": {},
   "outputs": [
    {
     "name": "stderr",
     "output_type": "stream",
     "text": [
      "Using TensorFlow backend.\n"
     ]
    }
   ],
   "source": [
    "# Import statements\n",
    "import numpy as np\n",
    "from scipy.fftpack import fft, ifft\n",
    "from sklearn.cluster import KMeans\n",
    "from sklearn.model_selection import train_test_split\n",
    "from sklearn.neighbors import KNeighborsClassifier\n",
    "import pickle\n",
    "\n",
    "from sklearn.svm import SVC\n",
    "import pandas as pd\n",
    "from keras.models import Sequential\n",
    "from keras.layers import Dense\n",
    "from keras.wrappers.scikit_learn import KerasClassifier\n",
    "from keras.utils import np_utils\n",
    "from sklearn.model_selection import cross_val_score\n",
    "from sklearn.model_selection import KFold\n",
    "from sklearn.preprocessing import LabelEncoder\n",
    "from sklearn.pipeline import Pipeline"
   ]
  },
  {
   "cell_type": "code",
   "execution_count": 44,
   "metadata": {},
   "outputs": [],
   "source": [
    "#Load the dataframe:\n",
    "dataframe = pd.read_csv(\"data.csv\", header=None)\n",
    "dataframe.head(10)\n",
    "Y=dataframe[10]\n",
    "del dataframe[10]\n",
    "X=dataframe"
   ]
  },
  {
   "cell_type": "code",
   "execution_count": 19,
   "metadata": {},
   "outputs": [
    {
     "name": "stdout",
     "output_type": "stream",
     "text": [
      "Accuracy on training set:100.0\n",
      "Accuracy on testing set:28.9719626168\n"
     ]
    }
   ],
   "source": [
    "#SVM\n",
    "trainData_S,testData_S,trainData_L,testData_L = train_test_split(X,Y,test_size = 0.33,random_state=42)\n",
    "svm=SVC(C=10,gamma='auto',decision_function_shape='ovo')\n",
    "svm.fit(trainData_S,trainData_L)\n",
    "print(\"Accuracy on training set:\"+str(svm.score(trainData_S,trainData_L)*100))\n",
    "print(\"Accuracy on testing set:\"+str(svm.score(testData_S,testData_L)*100))"
   ]
  },
  {
   "cell_type": "code",
   "execution_count": 20,
   "metadata": {},
   "outputs": [
    {
     "name": "stdout",
     "output_type": "stream",
     "text": [
      "Accuracy on training set:88.8888888889\n",
      "Accuracy on testing set:77.5700934579\n"
     ]
    }
   ],
   "source": [
    "#k-NN\n",
    "trainData_S,testData_S,trainData_L,testData_L = train_test_split(X,Y,test_size = 0.33,random_state=42)\n",
    "neigh = KNeighborsClassifier(n_neighbors = 5)\n",
    "neigh.fit(trainData_S,trainData_L)\n",
    "print(\"Accuracy on training set:\"+str(neigh.score(trainData_S,trainData_L)*100))\n",
    "print(\"Accuracy on testing set:\"+str(neigh.score(testData_S,testData_L)*100))"
   ]
  },
  {
   "cell_type": "code",
   "execution_count": 48,
   "metadata": {},
   "outputs": [
    {
     "name": "stdout",
     "output_type": "stream",
     "text": [
      " 32/214 [===>..........................] - ETA: 3s\n",
      "Accuracy on Training set: 100.00%\n",
      " 32/106 [========>.....................] - ETA: 0s\n",
      "Accuracy on Testing set: 81.13%\n"
     ]
    }
   ],
   "source": [
    "#Keras model\n",
    "X1,X2,Y1,Y2 = train_test_split(X,Y,test_size = 0.33,random_state=42)\n",
    "train_x=X1.values\n",
    "train_y=Y1.values\n",
    "test_x=X2.values\n",
    "test_y=Y2.values\n",
    "# One-Hot encoding\n",
    "encoder = LabelEncoder()\n",
    "encoder.fit(train_y)\n",
    "encoded_train_Y = encoder.transform(train_y)\n",
    "dummy_train_y = np_utils.to_categorical(encoded_train_Y)\n",
    "encoder = LabelEncoder()\n",
    "encoder.fit(test_y)\n",
    "encoded_test_Y = encoder.transform(test_y)\n",
    "dummy_test_y = np_utils.to_categorical(encoded_test_Y)\n",
    "model = Sequential()\n",
    "model.add(Dense(64, input_dim=10, activation='relu'))\n",
    "model.add(Dense(64, activation='relu'))\n",
    "model.add(Dense(128, activation='relu'))\n",
    "model.add(Dense(128, activation='relu'))\n",
    "model.add(Dense(256, activation='relu'))\n",
    "model.add(Dense(256, activation='relu'))\n",
    "model.add(Dense(64, activation='relu'))\n",
    "model.add(Dense(64, activation='relu'))\n",
    "model.add(Dense(32, activation='relu'))\n",
    "model.add(Dense(32, activation='relu'))\n",
    "model.add(Dense(5, activation='softmax'))\n",
    "# Compile model\n",
    "model.compile(loss='categorical_crossentropy', optimizer='adam', metrics=['accuracy'])\n",
    "model.fit(train_x,dummy_train_y,epochs=150,batch_size=28,verbose=0)\n",
    "scores = model.evaluate(train_x,dummy_train_y)\n",
    "print(\"\\n%s: %.2f%%\" % (\"Accuracy on Training set\", scores[1]*100))\n",
    "scores = model.evaluate(test_x,dummy_test_y)\n",
    "print(\"\\n%s: %.2f%%\" % (\"Accuracy on Testing set\", scores[1]*100))"
   ]
  },
  {
   "cell_type": "code",
   "execution_count": null,
   "metadata": {
    "collapsed": true
   },
   "outputs": [],
   "source": []
  }
 ],
 "metadata": {
  "kernelspec": {
   "display_name": "Python 2",
   "language": "python",
   "name": "python2"
  },
  "language_info": {
   "codemirror_mode": {
    "name": "ipython",
    "version": 2
   },
   "file_extension": ".py",
   "mimetype": "text/x-python",
   "name": "python",
   "nbconvert_exporter": "python",
   "pygments_lexer": "ipython2",
   "version": "2.7.14"
  }
 },
 "nbformat": 4,
 "nbformat_minor": 2
}
