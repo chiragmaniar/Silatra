{
 "cells": [
  {
   "cell_type": "code",
   "execution_count": 37,
   "metadata": {
    "collapsed": true
   },
   "outputs": [],
   "source": [
    "def getPredictions(model,X_test):\n",
    "    from numpy import array\n",
    "    preds=model.predict(array(X_test))\n",
    "    y_pred=[]\n",
    "    for row in preds:\n",
    "        if row[0]>row[1]:\n",
    "            y_pred.append(0)\n",
    "        else:\n",
    "            y_pred.append(1)\n",
    "    return y_pred"
   ]
  },
  {
   "cell_type": "code",
   "execution_count": 38,
   "metadata": {
    "collapsed": true
   },
   "outputs": [],
   "source": [
    "import numpy\n",
    "from __future__ import division\n",
    "# Function for evaluating score of the tree\n",
    "def evaluate_score(clf,X,Y):\n",
    "    Y_predicted=list(map(int,(clf.predict(X)).tolist()))\n",
    "    correct_predicts=0\n",
    "    for i in range(0,len(Y)):\n",
    "        if Y[i]==Y_predicted[i]:\n",
    "            correct_predicts=correct_predicts+1\n",
    "    acc=(correct_predicts/len(X))*100\n",
    "    return acc"
   ]
  },
  {
   "cell_type": "code",
   "execution_count": 43,
   "metadata": {
    "collapsed": true
   },
   "outputs": [],
   "source": [
    "def getModelStats(Y_test,Y_test_pred):\n",
    "    true_pos,false_pos,false_neg,true_neg=0,0,0,0\n",
    "    pos,neg=0,0\n",
    "    for i in range(len(Y_test)):\n",
    "        if Y_test[i]==0:\n",
    "            pos+=1\n",
    "        else:\n",
    "            neg+=1\n",
    "        if Y_test[i]==Y_test_pred[i]:\n",
    "            if Y_test[i]==0:\n",
    "                true_pos+=1\n",
    "            else:\n",
    "                true_neg+=1\n",
    "        else:\n",
    "            if Y_test[i]==0:\n",
    "                false_neg+=1\n",
    "            else:\n",
    "                false_pos+=1\n",
    "    print(\"Total number of positives in the set:\"+str(pos))\n",
    "    print(\"Total number of negatives in the set:\"+str(neg))\n",
    "    print(\"True Positive:\"+str(true_pos))\n",
    "    print(\"False Positive:\"+str(false_pos))\n",
    "    print(\"False Negative:\"+str(false_neg))\n",
    "    print(\"True Negative:\"+str(true_neg))\n",
    "    # Model statistics:\n",
    "    sensitivity=(true_pos/pos)\n",
    "    print(\"Model sensitivity is %0.4f\" %sensitivity)\n",
    "    specificity=(true_neg/neg)\n",
    "    print(\"Model specificity is %0.4f\" %specificity)\n",
    "    precision=true_pos/(true_pos+false_pos)\n",
    "    print(\"Model precision is %0.4f\" %precision)\n",
    "    f1_score=(2*true_pos)/(2*true_pos+false_pos+false_neg)\n",
    "    print(\"Model F1 score is %0.4f\" %f1_score)"
   ]
  },
  {
   "cell_type": "code",
   "execution_count": 40,
   "metadata": {},
   "outputs": [
    {
     "name": "stdout",
     "output_type": "stream",
     "text": [
      "Number of training samples loaded:224721\n",
      "Number of test samples loaded:74908\n"
     ]
    }
   ],
   "source": [
    "# Loading the file\n",
    "X_train=[]\n",
    "Y_train=[]\n",
    "input_file=open(\"skin-detection-training.txt\",\"r\")\n",
    "for line in input_file:\n",
    "    attrs=line.split(\",\")\n",
    "    Y_train.append(int(attrs[-1].strip()))\n",
    "    X_train.append(list(map(float,attrs[0:3])))\n",
    "print(\"Number of training samples loaded:\"+str(len(X_train)))\n",
    "X_test=[]\n",
    "Y_test=[]\n",
    "input_file=open(\"skin-detection-testing.txt\",\"r\")\n",
    "for line in input_file:\n",
    "    attrs=line.split(\",\")\n",
    "    Y_test.append(int(attrs[-1].strip()))\n",
    "    X_test.append(list(map(float,attrs[0:3])))\n",
    "print(\"Number of test samples loaded:\"+str(len(X_test)))"
   ]
  },
  {
   "cell_type": "code",
   "execution_count": 46,
   "metadata": {},
   "outputs": [
    {
     "name": "stdout",
     "output_type": "stream",
     "text": [
      "Train on 202248 samples, validate on 22473 samples\n",
      "Epoch 1/12\n",
      "202248/202248 [==============================] - 13s 66us/step - loss: 0.2177 - acc: 0.9009 - val_loss: 0.1223 - val_acc: 0.9467\n",
      "Epoch 2/12\n",
      "202248/202248 [==============================] - 12s 57us/step - loss: 0.1198 - acc: 0.9455 - val_loss: 0.1081 - val_acc: 0.9498\n",
      "Epoch 3/12\n",
      "202248/202248 [==============================] - 11s 56us/step - loss: 0.1064 - acc: 0.9519 - val_loss: 0.1072 - val_acc: 0.9547\n",
      "Epoch 4/12\n",
      "202248/202248 [==============================] - 11s 55us/step - loss: 0.0951 - acc: 0.9570 - val_loss: 0.0893 - val_acc: 0.9563\n",
      "Epoch 5/12\n",
      "202248/202248 [==============================] - 12s 58us/step - loss: 0.0870 - acc: 0.9599 - val_loss: 0.0768 - val_acc: 0.9639\n",
      "Epoch 6/12\n",
      "202248/202248 [==============================] - 12s 61us/step - loss: 0.0821 - acc: 0.9619 - val_loss: 0.0798 - val_acc: 0.9641\n",
      "Epoch 7/12\n",
      "202248/202248 [==============================] - 12s 59us/step - loss: 0.0793 - acc: 0.9636 - val_loss: 0.0747 - val_acc: 0.9647\n",
      "Epoch 8/12\n",
      "202248/202248 [==============================] - 11s 56us/step - loss: 0.0758 - acc: 0.9647 - val_loss: 0.0668 - val_acc: 0.9682\n",
      "Epoch 9/12\n",
      "202248/202248 [==============================] - 12s 59us/step - loss: 0.0735 - acc: 0.9662 - val_loss: 0.0738 - val_acc: 0.9650\n",
      "Epoch 10/12\n",
      "202248/202248 [==============================] - 12s 58us/step - loss: 0.0723 - acc: 0.9663 - val_loss: 0.0625 - val_acc: 0.9700\n",
      "Epoch 11/12\n",
      "202248/202248 [==============================] - 11s 55us/step - loss: 0.0697 - acc: 0.9676 - val_loss: 0.0632 - val_acc: 0.9719\n",
      "Epoch 12/12\n",
      "202248/202248 [==============================] - 11s 56us/step - loss: 0.0688 - acc: 0.9681 - val_loss: 0.0682 - val_acc: 0.9684\n"
     ]
    },
    {
     "data": {
      "image/png": "[encoded data removed]",
      "text/plain": [
       "<matplotlib.figure.Figure at 0x1eb83973f28>"
      ]
     },
     "metadata": {},
     "output_type": "display_data"
    },
    {
     "name": "stdout",
     "output_type": "stream",
     "text": [
      "Testing accuracy: 96.7600\n",
      "Training accuracy: 96.7293\n"
     ]
    },
    {
     "data": {
      "image/png": "[encoded data removed]",
      "text/plain": [
       "<matplotlib.figure.Figure at 0x1eb811d92b0>"
      ]
     },
     "metadata": {},
     "output_type": "display_data"
    },
    {
     "name": "stdout",
     "output_type": "stream",
     "text": [
      "Total number of positives in the set:17514\n",
      "Total number of negatives in the set:57394\n",
      "True Positive:16433\n",
      "False Positive:1346\n",
      "False Negative:1081\n",
      "True Negative:56048\n",
      "Model sensitivity is 0.9383\n",
      "Model specificity is 0.9765\n",
      "Model precision is 0.9243\n",
      "Model F1 score is 0.9312\n"
     ]
    }
   ],
   "source": [
    "# ROC for keras model:\n",
    "import numpy as np\n",
    "from keras.models import Sequential\n",
    "from keras.layers import Dense\n",
    "from keras.layers import Dropout\n",
    "from keras.constraints import maxnorm\n",
    "from keras.optimizers import Adam\n",
    "from sklearn.preprocessing import LabelEncoder\n",
    "from sklearn.pipeline import Pipeline\n",
    "from keras.utils import np_utils\n",
    "import matplotlib.pyplot as plt\n",
    "\n",
    "encoder = LabelEncoder()\n",
    "encoder.fit(Y_train)\n",
    "enc_Y_train = encoder.transform(Y_train)\n",
    "dummy_train_labels = np_utils.to_categorical(enc_Y_train)\n",
    "\n",
    "encoder = LabelEncoder()\n",
    "encoder.fit(Y_test)\n",
    "enc_Y_test = encoder.transform(Y_test)\n",
    "dummy_test_labels = np_utils.to_categorical(enc_Y_test)\n",
    "\n",
    "model = Sequential()\n",
    "model.add(Dense(3,input_dim=3,activation='relu', name='input_layer'))\n",
    "model.add(Dense(120,activation='relu', name='hidden_layer_1'))\n",
    "model.add(Dense(80,activation='relu', name='hidden_layer_2'))\n",
    "model.add(Dense(40,activation='relu', name='hidden_layer_3'))\n",
    "model.add(Dense(20,activation='relu', name='hidden_layer_4'))\n",
    "model.add(Dense(2, activation='softmax', name='output_layer'))\n",
    "\n",
    "# Compile model & fit data to model.\n",
    "model.compile(loss='categorical_crossentropy', optimizer='adam', metrics=['accuracy'])\n",
    "model_history=model.fit(X_train,dummy_train_labels,batch_size=53,epochs=12,verbose=1,validation_split=0.1)\n",
    "loss = model_history.history['loss']\n",
    "val_loss = model_history.history['val_loss']\n",
    "plt.plot(loss)\n",
    "plt.plot(val_loss)\n",
    "plt.legend(['loss', 'val_loss'])\n",
    "plt.show()\n",
    "Y_test_pred=getPredictions(model,X_test)\n",
    "Y_train_pred=getPredictions(model,X_train)\n",
    "corrects=0\n",
    "for i in range(len(Y_test)):\n",
    "    if Y_test[i]==Y_test_pred[i]:\n",
    "        corrects+=1\n",
    "test_acc=(corrects/len(Y_test))*100\n",
    "print(\"Testing accuracy: %0.4f\" %test_acc)\n",
    "corrects=0\n",
    "for i in range(len(Y_train)):\n",
    "    if Y_train[i]==Y_train_pred[i]:\n",
    "        corrects+=1\n",
    "train_acc=(corrects/len(Y_train))*100\n",
    "print(\"Training accuracy: %0.4f\" %train_acc)\n",
    "from sklearn.metrics import roc_curve,auc\n",
    "import matplotlib.pyplot as plt\n",
    "fpr,tpr,_=roc_curve(Y_test,Y_test_pred,pos_label=1)\n",
    "roc_auc = auc(fpr, tpr)\n",
    "# From here is where the graph is operated. Above this the entire calculation is for finding the False Positive Rate, True Positive Rate and the Area Under Curve\n",
    "plt.title('ROC for Deep Neural Network')\n",
    "lw=2\n",
    "plt.plot(fpr, tpr, color='blue', label='Area = %0.4f' %roc_auc)\n",
    "plt.legend(loc = 'lower right')\n",
    "plt.plot([0, 1], [0, 1],'r--')\n",
    "plt.xlim([0, 1])\n",
    "plt.ylim([0, 1])\n",
    "plt.ylabel('True Positive Rate')\n",
    "plt.xlabel('False Positive Rate')\n",
    "plt.show()\n",
    "# Developing the Confusion Matrix:\n",
    "getModelStats(Y_test,Y_test_pred)\n",
    "print('Saving model....\\r',end='')\n",
    "to_be_saved_model = model.to_json()\n",
    "with open('model1.json','w') as model_file: model_file.write(to_be_saved_model)\n",
    "model.save_weights('weights1.h5')"
   ]
  },
  {
   "cell_type": "code",
   "execution_count": 48,
   "metadata": {},
   "outputs": [
    {
     "name": "stdout",
     "output_type": "stream",
     "text": [
      "Accuracy on training set:98.69438103248027\n",
      "Accuracy on test set:96.3208202061195\n"
     ]
    },
    {
     "data": {
      "image/png": "[encoded data removed]",
      "text/plain": [
       "<matplotlib.figure.Figure at 0x1eb847086d8>"
      ]
     },
     "metadata": {},
     "output_type": "display_data"
    },
    {
     "name": "stdout",
     "output_type": "stream",
     "text": [
      "Total number of positives in the set:17514\n",
      "Total number of negatives in the set:57394\n",
      "True Positive:16321\n",
      "False Positive:1563\n",
      "False Negative:1193\n",
      "True Negative:55831\n",
      "Model sensitivity is 0.9319\n",
      "Model specificity is 0.9728\n",
      "Model precision is 0.9126\n",
      "Model F1 score is 0.9221\n"
     ]
    }
   ],
   "source": [
    "# Decision Tree fitting:\n",
    "from sklearn import tree\n",
    "classifier=tree.DecisionTreeClassifier()\n",
    "classifier.fit(X_train,Y_train)\n",
    "train_score=evaluate_score(classifier,X_train,Y_train)\n",
    "print(\"Accuracy on training set:\"+str(train_score))\n",
    "test_score=evaluate_score(classifier,X_test,Y_test)\n",
    "print(\"Accuracy on test set:\"+str(test_score))\n",
    "# Plotting the ROC curve and finding the AuC:\n",
    "from sklearn.metrics import roc_curve,auc\n",
    "import matplotlib.pyplot as plt\n",
    "Y_test_preds=list(map(int,(classifier.predict(X_test)).tolist()))\n",
    "fpr,tpr,_=roc_curve(Y_test,Y_test_preds)\n",
    "roc_auc = auc(fpr, tpr)\n",
    "# From here is where the graph is operated. Above this the entire calculation is for finding the False Positive Rate, True Positive Rate and the Area Under Curve\n",
    "plt.title('ROC for Decision Tree')\n",
    "lw=2\n",
    "plt.plot(fpr, tpr, color='blue', label='Area = %0.4f' %roc_auc)\n",
    "plt.legend(loc = 'lower right')\n",
    "plt.plot([0, 1], [0, 1],'r--')\n",
    "plt.xlim([0, 1])\n",
    "plt.ylim([0, 1])\n",
    "plt.ylabel('True Positive Rate')\n",
    "plt.xlabel('False Positive Rate')\n",
    "plt.show()\n",
    "getModelStats(Y_test,Y_test_preds)"
   ]
  },
  {
   "cell_type": "code",
   "execution_count": null,
   "metadata": {
    "collapsed": true
   },
   "outputs": [],
   "source": []
  }
 ],
 "metadata": {
  "kernelspec": {
   "display_name": "Python 3",
   "language": "python",
   "name": "python3"
  },
  "language_info": {
   "codemirror_mode": {
    "name": "ipython",
    "version": 3
   },
   "file_extension": ".py",
   "mimetype": "text/x-python",
   "name": "python",
   "nbconvert_exporter": "python",
   "pygments_lexer": "ipython3",
   "version": "3.5.4"
  }
 },
 "nbformat": 4,
 "nbformat_minor": 2
}
