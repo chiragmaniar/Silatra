{
 "cells": [
  {
   "cell_type": "code",
   "execution_count": 1,
   "metadata": {
    "collapsed": true
   },
   "outputs": [],
   "source": [
    "import numpy\n",
    "from __future__ import division\n",
    "# Function for evaluating score of the tree\n",
    "def evaluate_score(clf,X,Y):\n",
    "    Y_predicted=list(map(int,(clf.predict(X)).tolist()))\n",
    "    correct_predicts=0\n",
    "    for i in range(0,len(Y)):\n",
    "        if Y[i]==Y_predicted[i]:\n",
    "            correct_predicts=correct_predicts+1\n",
    "    acc=(correct_predicts/len(X))*100\n",
    "    return acc"
   ]
  },
  {
   "cell_type": "code",
   "execution_count": 2,
   "metadata": {
    "collapsed": true
   },
   "outputs": [],
   "source": [
    "ranges=[179.0,255.0,255.0]\n",
    "def normalize(mat):\n",
    "    for i in range(len(mat)):\n",
    "        for j in range(len(mat[i])):\n",
    "            mat[i][j]=mat[i][j]/ranges[j]\n",
    "    return mat"
   ]
  },
  {
   "cell_type": "code",
   "execution_count": 3,
   "metadata": {},
   "outputs": [
    {
     "name": "stdout",
     "output_type": "stream",
     "text": [
      "Number of samples loaded:299629\n",
      "Training samples:269666\n",
      "Testing samples:29963\n"
     ]
    }
   ],
   "source": [
    "# Loading the file\n",
    "X=[]\n",
    "Y=[]\n",
    "input_file=open(\"silatra_dataset_complete.txt\",\"r\")\n",
    "for line in input_file:\n",
    "    attrs=line.split(\"\\t\")\n",
    "    Y.append(int(attrs[-1].strip())-1)\n",
    "    X.append(list(map(int,attrs[0:3])))\n",
    "print(\"Number of samples loaded:\"+str(len(X)))\n",
    "X=normalize(X)\n",
    "from random import randint\n",
    "train_ratio=0.9\n",
    "train_samples=int(train_ratio*len(X))\n",
    "X_train=[]\n",
    "Y_train=[]\n",
    "while len(X_train)<train_samples:\n",
    "    index=int(randint(0,len(X)-1))\n",
    "    X_train.append(X[index])\n",
    "    Y_train.append(Y[index])\n",
    "    del X[index]\n",
    "    del Y[index]\n",
    "X_test=X\n",
    "Y_test=Y\n",
    "print(\"Training samples:\"+str(len(X_train)))\n",
    "print(\"Testing samples:\"+str(len(X_test)))"
   ]
  },
  {
   "cell_type": "code",
   "execution_count": 4,
   "metadata": {
    "scrolled": true
   },
   "outputs": [
    {
     "name": "stdout",
     "output_type": "stream",
     "text": [
      "Accuracy on training set:98.45253016694726\n",
      "Accuracy on test set:96.17862029836799\n"
     ]
    }
   ],
   "source": [
    "# Decision Tree fitting:\n",
    "from sklearn import tree\n",
    "classifier=tree.DecisionTreeClassifier()\n",
    "classifier.fit(X_train,Y_train)\n",
    "train_score=evaluate_score(classifier,X_train,Y_train)\n",
    "print(\"Accuracy on training set:\"+str(train_score))\n",
    "test_score=evaluate_score(classifier,X_test,Y_test)\n",
    "print(\"Accuracy on test set:\"+str(test_score))"
   ]
  },
  {
   "cell_type": "code",
   "execution_count": 5,
   "metadata": {},
   "outputs": [
    {
     "data": {
      "image/png": "[encoded data removed]",
      "text/plain": [
       "<matplotlib.figure.Figure at 0x27b79502748>"
      ]
     },
     "metadata": {},
     "output_type": "display_data"
    }
   ],
   "source": [
    "# Plotting the ROC curve and finding the AuC:\n",
    "from sklearn.metrics import roc_curve,auc\n",
    "import matplotlib.pyplot as plt\n",
    "Y_test_preds=list(map(int,(classifier.predict(X_test)).tolist()))\n",
    "fpr,tpr,_=roc_curve(Y_test,Y_test_preds)\n",
    "roc_auc = auc(fpr, tpr)\n",
    "# From here is where the graph is operated. Above this the entire calculation is for finding the False Positive Rate, True Positive Rate and the Area Under Curve\n",
    "plt.title('ROC for Decision Tree')\n",
    "lw=2\n",
    "plt.plot(fpr, tpr, color='blue', label='Area = %0.4f' %roc_auc)\n",
    "plt.legend(loc = 'lower right')\n",
    "plt.plot([0, 1], [0, 1],'r--')\n",
    "plt.xlim([0, 1])\n",
    "plt.ylim([0, 1])\n",
    "plt.ylabel('True Positive Rate')\n",
    "plt.xlabel('False Positive Rate')\n",
    "plt.show()"
   ]
  },
  {
   "cell_type": "code",
   "execution_count": 9,
   "metadata": {},
   "outputs": [
    {
     "name": "stdout",
     "output_type": "stream",
     "text": [
      "Total number of positives in the set:22763\n",
      "Total number of negatives in the set:7200\n",
      "True Positive:22126\n",
      "False Positive:508\n",
      "False Negative:637\n",
      "True Negative:6692\n"
     ]
    }
   ],
   "source": [
    "# Developing the Confusion Matrix:\n",
    "# Considering 'Skin' as positive class:\n",
    "# 1 is skin, 0 is non-skin:\n",
    "true_pos,false_pos,false_neg,true_neg=0,0,0,0\n",
    "pos,neg=0,0\n",
    "for i in range(len(Y_test)):\n",
    "    if Y_test[i]==1:\n",
    "        pos+=1\n",
    "    else:\n",
    "        neg+=1\n",
    "    if Y_test[i]==Y_test_preds[i]:\n",
    "        if Y_test[i]==1:\n",
    "            true_pos+=1\n",
    "        else:\n",
    "            true_neg+=1\n",
    "    else:\n",
    "        if Y_test[i]==1:\n",
    "            false_neg+=1\n",
    "        else:\n",
    "            false_pos+=1\n",
    "print(\"Total number of positives in the set:\"+str(pos))\n",
    "print(\"Total number of negatives in the set:\"+str(neg))\n",
    "print(\"True Positive:\"+str(true_pos))\n",
    "print(\"False Positive:\"+str(false_pos))\n",
    "print(\"False Negative:\"+str(false_neg))\n",
    "print(\"True Negative:\"+str(true_neg))"
   ]
  },
  {
   "cell_type": "code",
   "execution_count": null,
   "metadata": {
    "collapsed": true
   },
   "outputs": [],
   "source": [
    "# Model statistics:\n",
    "sensitivity=(true_pos/pos)\n",
    "print(\"Model sensitivity is \"+str(sensitivity))\n",
    "specificity=(true_neg/neg)\n",
    "print(\"Model sensitivity is \"+str(specificity))\n",
    "precision=true_pos/(true_pos+false_pos)\n"
   ]
  }
 ],
 "metadata": {
  "kernelspec": {
   "display_name": "Python 3",
   "language": "python",
   "name": "python3"
  },
  "language_info": {
   "codemirror_mode": {
    "name": "ipython",
    "version": 3
   },
   "file_extension": ".py",
   "mimetype": "text/x-python",
   "name": "python",
   "nbconvert_exporter": "python",
   "pygments_lexer": "ipython3",
   "version": "3.5.4"
  }
 },
 "nbformat": 4,
 "nbformat_minor": 2
}
