{
 "cells": [
  {
   "cell_type": "code",
   "execution_count": 43,
   "metadata": {},
   "outputs": [],
   "source": [
    "import numpy\n",
    "from __future__ import division\n",
    "# Function for evaluating score of the tree\n",
    "def evaluate_score(clf,X,Y):\n",
    "    Y_predicted=map(int,(clf.predict(X)).tolist())\n",
    "    correct_predicts=0\n",
    "    for i in range(0,len(Y)):\n",
    "        if Y[i]==Y_predicted[i]:\n",
    "            correct_predicts=correct_predicts+1\n",
    "    acc=(correct_predicts/len(X))*100\n",
    "    return acc"
   ]
  },
  {
   "cell_type": "code",
   "execution_count": 46,
   "metadata": {},
   "outputs": [],
   "source": [
    "def normalize(mat):\n",
    "    for i in range(len(mat)):\n",
    "        for j in range(len(mat[i])):\n",
    "            mat[i][j]=mat[i][j]/255\n",
    "    return mat"
   ]
  },
  {
   "cell_type": "code",
   "execution_count": 49,
   "metadata": {},
   "outputs": [
    {
     "name": "stdout",
     "output_type": "stream",
     "text": [
      "Number of samples loaded:299629\n",
      "Training samples:224721\n",
      "Testing samples:74908\n"
     ]
    }
   ],
   "source": [
    "# Loading the file\n",
    "X=[]\n",
    "Y=[]\n",
    "input_file=open(\"skin_data.csv\",\"r\")\n",
    "for line in input_file:\n",
    "    attrs=line.split(\",\")\n",
    "    Y.append(int(attrs[-1].strip()))\n",
    "    X.append(map(int,attrs[0:3]))\n",
    "print \"Number of samples loaded:\"+str(len(X))\n",
    "# X=normalize(X)\n",
    "from random import randint\n",
    "train_ratio=0.75\n",
    "train_samples=int(train_ratio*len(X))\n",
    "X_train=[]\n",
    "Y_train=[]\n",
    "while len(X_train)<train_samples:\n",
    "    index=int(randint(0,len(X)-1))\n",
    "    X_train.append(X[index])\n",
    "    Y_train.append(Y[index])\n",
    "    del X[index]\n",
    "    del Y[index]\n",
    "X_test=X\n",
    "Y_test=Y\n",
    "print \"Training samples:\"+str(len(X_train))\n",
    "print \"Testing samples:\"+str(len(X_test))"
   ]
  },
  {
   "cell_type": "code",
   "execution_count": 50,
   "metadata": {
    "scrolled": true
   },
   "outputs": [
    {
     "name": "stdout",
     "output_type": "stream",
     "text": [
      "Accuracy on training set:98.7571255023\n",
      "Accuracy on test set:96.5918192983\n"
     ]
    }
   ],
   "source": [
    "# Decision Tree fitting:\n",
    "from sklearn import tree\n",
    "classifier=tree.DecisionTreeClassifier()\n",
    "classifier.fit(X_train,Y_train)\n",
    "train_score=evaluate_score(classifier,X_train,Y_train)\n",
    "print \"Accuracy on training set:\"+str(train_score)\n",
    "test_score=evaluate_score(classifier,X_test,Y_test)\n",
    "print \"Accuracy on test set:\"+str(test_score)"
   ]
  },
  {
   "cell_type": "code",
   "execution_count": null,
   "metadata": {},
   "outputs": [],
   "source": []
  }
 ],
 "metadata": {
  "kernelspec": {
   "display_name": "Python 2",
   "language": "python",
   "name": "python2"
  },
  "language_info": {
   "codemirror_mode": {
    "name": "ipython",
    "version": 2
   },
   "file_extension": ".py",
   "mimetype": "text/x-python",
   "name": "python",
   "nbconvert_exporter": "python",
   "pygments_lexer": "ipython2",
   "version": "2.7.12+"
  }
 },
 "nbformat": 4,
 "nbformat_minor": 2
}
