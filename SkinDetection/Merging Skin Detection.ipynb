{
 "cells": [
  {
   "cell_type": "code",
   "execution_count": 17,
   "metadata": {},
   "outputs": [],
   "source": [
    "input_file_1=open(\"merged skin.txt\",\"r\")\n",
    "output_file=open(\"skin_data.csv\",\"w\")"
   ]
  },
  {
   "cell_type": "code",
   "execution_count": 18,
   "metadata": {},
   "outputs": [],
   "source": [
    "for line in input_file_1:\n",
    "    attrs=line.split(\"\\t\")\n",
    "    ipstr=\"\"\n",
    "    for i in range(0,len(attrs)):\n",
    "        ipstr+=str(attrs[i])\n",
    "        if i!=len(attrs)-1:\n",
    "            ipstr+=\",\"\n",
    "    output_file.write(ipstr)\n",
    "input_file_1.close()\n",
    "output_file.close()"
   ]
  },
  {
   "cell_type": "code",
   "execution_count": null,
   "metadata": {},
   "outputs": [],
   "source": []
  }
 ],
 "metadata": {
  "kernelspec": {
   "display_name": "Python 2",
   "language": "python",
   "name": "python2"
  },
  "language_info": {
   "codemirror_mode": {
    "name": "ipython",
    "version": 2
   },
   "file_extension": ".py",
   "mimetype": "text/x-python",
   "name": "python",
   "nbconvert_exporter": "python",
   "pygments_lexer": "ipython2",
   "version": "2.7.12+"
  }
 },
 "nbformat": 4,
 "nbformat_minor": 2
}
