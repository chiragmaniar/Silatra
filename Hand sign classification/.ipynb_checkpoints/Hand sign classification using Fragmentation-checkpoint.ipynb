{
 "cells": [
  {
   "cell_type": "markdown",
   "metadata": {},
   "source": [
    "# Hand sign classification\n",
    "### The method of fragmentation\n",
    "\n",
    "The image is divided into blocks of 20x20. In each block, we calculate the area of contour lying in that block and divide it by the area of that block. If there is no contour, the area is simply zero.\n",
    "\n",
    "This calculation is performed 400 times and we get 400 features for a single image. \n",
    "\n",
    "These features are now trained using the classifiers:\n",
    "* Deep Learning Neural Network\n",
    "* KNN"
   ]
  },
  {
   "cell_type": "markdown",
   "metadata": {},
   "source": [
    "### Fetching data from file"
   ]
  },
  {
   "cell_type": "code",
   "execution_count": 2,
   "metadata": {},
   "outputs": [
    {
     "name": "stdout",
     "output_type": "stream",
     "text": [
      "Total data parsed: 19425\n"
     ]
    }
   ],
   "source": [
    "import pandas as pd\n",
    "import matplotlib.pyplot as plt\n",
    "import matplotlib.cm as cm\n",
    "import numpy as np\n",
    "from sklearn.model_selection import train_test_split as tts\n",
    "from sklearn.metrics import confusion_matrix\n",
    "\n",
    "data = pd.read_csv('data.csv')\n",
    "print('Total data parsed: %d'%(len(data)))\n",
    "\n",
    "no_of_classes = 36\n",
    "label_indexes = {}\n",
    "for i in range(10): label_indexes[i] = str(i)\n",
    "for i in range(26):\n",
    "    if not chr(ord('a')+i) in ['h','j','v']: label_indexes[10+i] = chr(ord('a')+i)"
   ]
  },
  {
   "cell_type": "markdown",
   "metadata": {},
   "source": [
    "### Deep Learning Neural Network model"
   ]
  },
  {
   "cell_type": "code",
   "execution_count": 10,
   "metadata": {},
   "outputs": [
    {
     "name": "stdout",
     "output_type": "stream",
     "text": [
      "Random state: 353\n",
      "Train on 9517 samples, validate on 4080 samples\n",
      "Epoch 1/7\n",
      "9517/9517 [==============================] - 11s 1ms/step - loss: 0.6769 - acc: 0.8058 - val_loss: 0.2246 - val_acc: 0.9333\n",
      "Epoch 2/7\n",
      "9517/9517 [==============================] - 11s 1ms/step - loss: 0.2050 - acc: 0.9337 - val_loss: 0.1726 - val_acc: 0.9429\n",
      "Epoch 3/7\n",
      "9517/9517 [==============================] - 11s 1ms/step - loss: 0.1185 - acc: 0.9624 - val_loss: 0.1295 - val_acc: 0.9578\n",
      "Epoch 4/7\n",
      "9517/9517 [==============================] - 11s 1ms/step - loss: 0.0760 - acc: 0.9771 - val_loss: 0.1610 - val_acc: 0.9507\n",
      "Epoch 5/7\n",
      "9517/9517 [==============================] - 11s 1ms/step - loss: 0.0655 - acc: 0.9795 - val_loss: 0.0970 - val_acc: 0.9721\n",
      "Epoch 6/7\n",
      "9517/9517 [==============================] - 11s 1ms/step - loss: 0.0537 - acc: 0.9832 - val_loss: 0.1099 - val_acc: 0.9694\n",
      "Epoch 7/7\n",
      "9517/9517 [==============================] - 11s 1ms/step - loss: 0.0437 - acc: 0.9862 - val_loss: 0.1003 - val_acc: 0.9708\n",
      "5828/5828 [==============================] - 1s 151us/step\n",
      "\n",
      "acc: 96.95%\n"
     ]
    }
   ],
   "source": [
    "from keras.models import Sequential\n",
    "from keras.layers import Dense, Dropout\n",
    "from sklearn.preprocessing import LabelEncoder\n",
    "from sklearn.pipeline import Pipeline\n",
    "from keras.utils import np_utils\n",
    "from random import randint\n",
    "\n",
    "X = data[['f'+str(i) for i in range(400)]].values.tolist()\n",
    "Y = data['label'].values.tolist()\n",
    "\n",
    "r_val = randint(1,1000)\n",
    "print('Random state: %d'%(r_val))\n",
    "X_train, X_test, Y_train, Y_test = tts(X,Y,test_size=0.3,random_state=r_val)\n",
    "# 100\n",
    "encoder = LabelEncoder()\n",
    "encoder.fit(Y_train)\n",
    "encoded_train_labels = encoder.transform(Y_train)\n",
    "dummy_train_labels = np_utils.to_categorical(encoded_train_labels)\n",
    "\n",
    "encoder = LabelEncoder()\n",
    "encoder.fit(Y_test)\n",
    "encoded_test_labels = encoder.transform(Y_test)\n",
    "dummy_test_labels = np_utils.to_categorical(encoded_test_labels)\n",
    "\n",
    "model = Sequential()\n",
    "model.add(Dense(1000, input_dim=400, activation='relu', name='h1'))\n",
    "model.add(Dense(500, activation='relu', name='h3'))\n",
    "model.add(Dense(33, activation='softmax', name='op'))\n",
    "\n",
    "model.compile(loss='categorical_crossentropy', optimizer='adam', metrics=['accuracy'])\n",
    "model.fit(X_train,dummy_train_labels,epochs=7,batch_size=32,verbose=1,validation_split=0.3)\n",
    "\n",
    "score = model.evaluate(X_test,dummy_test_labels)\n",
    "print(\"\\n%s: %.2f%%\" % (model.metrics_names[1], score[1]*100))"
   ]
  },
  {
   "cell_type": "markdown",
   "metadata": {},
   "source": [
    "### KNN classifier"
   ]
  },
  {
   "cell_type": "code",
   "execution_count": 3,
   "metadata": {},
   "outputs": [
    {
     "name": "stdout",
     "output_type": "stream",
     "text": [
      "Random state = 351\n",
      "Accuracy: 98.267\n",
      "Approximate incorrect samples: 101/5828\n"
     ]
    }
   ],
   "source": [
    "from sklearn.neighbors import KNeighborsClassifier\n",
    "from random import randint\n",
    "from sklearn.model_selection import KFold\n",
    "\n",
    "X = data[['f'+str(i) for i in range(400)]].values\n",
    "Y = data['label'].values\n",
    "\n",
    "r_val = randint(1,1000)\n",
    "print('Random state = %3d'%(r_val))\n",
    "X_train, X_test, Y_train, Y_test = tts(X,Y,test_size=0.3, random_state=351)\n",
    "\n",
    "print('Training...',end='\\r')\n",
    "classifier = KNeighborsClassifier(n_neighbors=3)\n",
    "classifier.fit(X_train, Y_train)\n",
    "\n",
    "print('Testing....',end='\\r')\n",
    "acc = classifier.score(X_test,Y_test)\n",
    "print('Accuracy: %.3f' % (acc*100))\n",
    "print('Approximate incorrect samples: %d/%d'%((1-acc)*len(X_test),len(X_test)))"
   ]
  },
  {
   "cell_type": "markdown",
   "metadata": {},
   "source": [
    "### Testing the classifier with new data"
   ]
  },
  {
   "cell_type": "code",
   "execution_count": 5,
   "metadata": {},
   "outputs": [
    {
     "name": "stdout",
     "output_type": "stream",
     "text": [
      "[[ 0.  1.  0.  0.  0.  0.  0.  0.  0.  0.  0.  0.  0.  0.  0.  0.  0.  0.\n",
      "   0.  0.  0.  0.  0.  0.  0.  0.  0.  0.  0.  0.  0.  0.  0.]]\n"
     ]
    }
   ],
   "source": [
    "X=[[0.0,0.0,0.0,0.0,0.0,0.0,0.0,0.0,0.0,0.0,0.0,0.0,0.0,0.0,0.0,0.0,0.0,0.565880721220527,0.6990291262135923,0.21081830790568654,0.0,0.0,0.0,0.0,0.0,0.0,0.0,0.0,0.0,0.0,0.0,0.0,0.0,0.0,0.0,0.0,0.0,0.710124826629681,0.710124826629681,0.710124826629681,0.0,0.0,0.0,0.0,0.0,0.0,0.0,0.0,0.0,0.0,0.0,0.0,0.0,0.0,0.0,0.0,0.0,0.710124826629681,0.710124826629681,0.710124826629681,0.0,0.0,0.0,0.0,0.0,0.0,0.0,0.0,0.0,0.0,0.0,0.0,0.0,0.0,0.0,0.0,0.0,0.6213592233009708,0.6213592233009708,0.6102635228848821,0.0,0.0,0.0,0.0,0.0,0.0,0.0,0.0,0.0,0.0,0.0,0.0,0.0,0.0,0.0,0.0,0.3217753120665742,0.710124826629681,0.710124826629681,0.6990291262135923,0.0,0.0,0.0,0.0,0.0,0.0,0.0,0.23300970873786409,0.5325936199722607,0.5325936199722607,0.42163661581137307,0.14424410540915394,0.0,0.0,0.0,0.0,0.42163661581137307,0.710124826629681,0.710124826629681,0.47711511789181693,0.0,0.0,0.0,0.0,0.0,0.0,0.0,0.08876560332871013,0.37725381414701803,0.5104022191400832,0.710124826629681,0.710124826629681,0.5991678224687933,0.05547850208044383,0.0,0.12205270457697642,0.710124826629681,0.710124826629681,0.710124826629681,0.27739251040221913,0.0,0.0,0.0,0.0,0.0,0.0,0.0,0.0,0.0,0.0,0.5547850208044383,0.6213592233009708,0.6213592233009708,0.5547850208044383,0.0,0.1553398058252427,0.6213592233009708,0.6213592233009708,0.6213592233009708,0.033287101248266296,0.0,0.0,0.0,0.0,0.0,0.033287101248266296,0.29958391123439665,0.08876560332871013,0.0,0.0,0.46601941747572817,0.710124826629681,0.710124826629681,0.8876560332871013,0.5769764216366158,0.6435506241331485,0.710124826629681,0.710124826629681,0.710124826629681,0.0,0.0,0.0,0.0,0.0,0.06657420249653259,0.6990291262135923,0.8876560332871013,0.710124826629681,0.46601941747572817,0.24410540915395285,0.6213592233009708,0.710124826629681,0.710124826629681,0.8876560332871013,0.710124826629681,0.710124826629681,0.710124826629681,0.710124826629681,0.710124826629681,0.0,0.0,0.05547850208044383,0.34396671289875175,0.46601941747572817,0.6768377253814147,0.710124826629681,0.8876560332871013,0.710124826629681,0.710124826629681,0.710124826629681,0.710124826629681,0.710124826629681,0.710124826629681,0.8876560332871013,0.710124826629681,0.710124826629681,0.710124826629681,0.710124826629681,0.44382801664355065,0.0,0.0,0.5436893203883495,0.6213592233009708,0.6213592233009708,0.6213592233009708,0.6213592233009708,0.7766990291262136,0.6213592233009708,0.6213592233009708,0.6213592233009708,0.6213592233009708,0.6213592233009708,0.6213592233009708,0.7766990291262136,0.6213592233009708,0.6213592233009708,0.6213592233009708,0.6213592233009708,0.05547850208044383,0.0,0.0,0.6435506241331485,0.710124826629681,0.710124826629681,0.710124826629681,0.710124826629681,0.8876560332871013,0.710124826629681,0.710124826629681,0.710124826629681,0.710124826629681,0.710124826629681,0.710124826629681,0.8876560332871013,0.710124826629681,0.710124826629681,0.710124826629681,0.5325936199722607,0.0,0.0,0.3106796116504854,0.710124826629681,0.710124826629681,0.710124826629681,0.710124826629681,0.710124826629681,0.8876560332871013,0.710124826629681,0.710124826629681,0.710124826629681,0.710124826629681,0.710124826629681,0.710124826629681,0.8876560332871013,0.710124826629681,0.710124826629681,0.710124826629681,0.13314840499306518,0.0,0.0,0.6546463245492372,0.710124826629681,0.710124826629681,0.710124826629681,0.710124826629681,0.710124826629681,0.8876560332871013,0.710124826629681,0.710124826629681,0.710124826629681,0.710124826629681,0.710124826629681,0.710124826629681,0.8876560332871013,0.710124826629681,0.710124826629681,0.5436893203883495,0.0,0.0,0.0,0.6213592233009708,0.6213592233009708,0.6213592233009708,0.6213592233009708,0.6213592233009708,0.6213592233009708,0.7766990291262136,0.6213592233009708,0.6213592233009708,0.6213592233009708,0.6213592233009708,0.6213592233009708,0.6213592233009708,0.7766990291262136,0.6213592233009708,0.5880721220527045,0.033287101248266296,0.0,0.0,0.0,0.7545076282940361,0.710124826629681,0.710124826629681,0.710124826629681,0.710124826629681,0.710124826629681,0.8876560332871013,0.710124826629681,0.710124826629681,0.710124826629681,0.710124826629681,0.710124826629681,0.710124826629681,0.8876560332871013,0.710124826629681,0.11095700416088766,0.0,0.0,0.0,0.0,0.6102635228848821,0.710124826629681,0.710124826629681,0.710124826629681,0.710124826629681,0.710124826629681,0.8876560332871013,0.710124826629681,0.710124826629681,0.710124826629681,0.710124826629681,0.710124826629681,0.710124826629681,0.8876560332871013,0.5325936199722607,0.0,0.0,0.0,0.0,0.0,0.44382801664355065,0.710124826629681,0.710124826629681,0.710124826629681,0.710124826629681,0.710124826629681,0.8876560332871013,0.710124826629681,0.710124826629681,0.710124826629681,0.710124826629681,0.710124826629681,0.710124826629681,0.8765603328710125,0.05547850208044383,0.0,0.0,0.0,0.0,0.0,0.34396671289875175,0.6213592233009708,0.6213592233009708,0.6213592233009708,0.6213592233009708,0.6213592233009708,0.7766990291262136,0.6213592233009708,0.6213592233009708,0.6213592233009708,0.6213592233009708,0.6213592233009708,0.6213592233009708,0.36615811373092927,0.0,0.0,0.0,0.0,0.0,0.0]]\n",
    "print(classifier.predict_proba(X))"
   ]
  }
 ],
 "metadata": {
  "kernelspec": {
   "display_name": "Python 3",
   "language": "python",
   "name": "python3"
  },
  "language_info": {
   "codemirror_mode": {
    "name": "ipython",
    "version": 3
   },
   "file_extension": ".py",
   "mimetype": "text/x-python",
   "name": "python",
   "nbconvert_exporter": "python",
   "pygments_lexer": "ipython3",
   "version": "3.6.2"
  }
 },
 "nbformat": 4,
 "nbformat_minor": 2
}
